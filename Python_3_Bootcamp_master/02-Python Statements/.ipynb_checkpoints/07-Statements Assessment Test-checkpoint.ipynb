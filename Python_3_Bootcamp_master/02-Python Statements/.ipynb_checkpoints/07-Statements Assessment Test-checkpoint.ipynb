{
 "cells": [
  {
   "cell_type": "markdown",
   "metadata": {
    "collapsed": true
   },
   "source": [
    "# Statements Assessment Test\n",
    "Let's test your knowledge!"
   ]
  },
  {
   "cell_type": "markdown",
   "metadata": {},
   "source": [
    "_____\n",
    "**Use <code>for</code>, .split(), and <code>if</code> to create a Statement that will print out words that start with 's':**"
   ]
  },
  {
   "cell_type": "code",
   "execution_count": 4,
   "metadata": {},
   "outputs": [],
   "source": [
    "st = 'Print only the words that start with s in this sentence'"
   ]
  },
  {
   "cell_type": "code",
   "execution_count": 19,
   "metadata": {},
   "outputs": [
    {
     "name": "stdout",
     "output_type": "stream",
     "text": [
      "start\n",
      "s\n",
      "sentence\n"
     ]
    },
    {
     "data": {
      "text/plain": [
       "False"
      ]
     },
     "execution_count": 19,
     "metadata": {},
     "output_type": "execute_result"
    }
   ],
   "source": [
    "#Code here\n",
    "list1 = st.split()\n",
    "for w in list1 :\n",
    "    if w.startswith('s'):\n",
    "        print(w)\n",
    "    \n",
    "b=st.startswith('s')\n",
    "b"
   ]
  },
  {
   "cell_type": "markdown",
   "metadata": {},
   "source": [
    "______\n",
    "**Use range() to print all the even numbers from 0 to 10.**"
   ]
  },
  {
   "cell_type": "code",
   "execution_count": 22,
   "metadata": {},
   "outputs": [
    {
     "name": "stdout",
     "output_type": "stream",
     "text": [
      "[0, 2, 4, 6, 8, 10]\n"
     ]
    }
   ],
   "source": [
    "#Code Here\n",
    "lis = list(range(0, 11, 2))\n",
    "print(lis)"
   ]
  },
  {
   "cell_type": "markdown",
   "metadata": {},
   "source": [
    "___\n",
    "**Use a List Comprehension to create a list of all numbers between 1 and 50 that are divisible by 3.**"
   ]
  },
  {
   "cell_type": "code",
   "execution_count": 23,
   "metadata": {},
   "outputs": [
    {
     "data": {
      "text/plain": [
       "[3, 6, 9, 12, 15, 18, 21, 24, 27, 30, 33, 36, 39, 42, 45, 48]"
      ]
     },
     "execution_count": 23,
     "metadata": {},
     "output_type": "execute_result"
    }
   ],
   "source": [
    "#Code in this cell\n",
    "[x for x in range(1,51) if x%3==0]"
   ]
  },
  {
   "cell_type": "markdown",
   "metadata": {},
   "source": [
    "_____\n",
    "**Go through the string below and if the length of a word is even print \"even!\"**"
   ]
  },
  {
   "cell_type": "code",
   "execution_count": 69,
   "metadata": {},
   "outputs": [],
   "source": [
    "st = 'Print every word in this sentence that has an even number of letters'"
   ]
  },
  {
   "cell_type": "code",
   "execution_count": 70,
   "metadata": {},
   "outputs": [
    {
     "name": "stdout",
     "output_type": "stream",
     "text": [
      "word\n",
      "in\n",
      "this\n",
      "sentence\n",
      "that\n",
      "an\n",
      "even\n",
      "number\n",
      "of\n"
     ]
    }
   ],
   "source": [
    "#Code in this cell\n",
    "lis2 = st.split()\n",
    "for word in lis2 :\n",
    "    if len(word) % 2 == 0 :\n",
    "        print(word)\n",
    "    \n",
    "# vg = 'guygy'\n",
    "# len(vg)"
   ]
  },
  {
   "cell_type": "markdown",
   "metadata": {},
   "source": [
    "____\n",
    "**Write a program that prints the integers from 1 to 100. But for multiples of three print \"Fizz\" instead of the number, and for the multiples of five print \"Buzz\". For numbers which are multiples of both three and five print \"FizzBuzz\".**"
   ]
  },
  {
   "cell_type": "code",
   "execution_count": 46,
   "metadata": {},
   "outputs": [
    {
     "name": "stdout",
     "output_type": "stream",
     "text": [
      "1\n",
      "2\n",
      "Fizz(3)\n",
      "4\n",
      "Buzz(5)\n",
      "Fizz(6)\n",
      "7\n",
      "8\n",
      "Fizz(9)\n",
      "Buzz(10)\n",
      "11\n",
      "Fizz(12)\n",
      "13\n",
      "14\n",
      "FizzBuzz(15)\n",
      "16\n",
      "17\n",
      "Fizz(18)\n",
      "19\n",
      "Buzz(20)\n",
      "Fizz(21)\n",
      "22\n",
      "23\n",
      "Fizz(24)\n",
      "Buzz(25)\n",
      "26\n",
      "Fizz(27)\n",
      "28\n",
      "29\n",
      "FizzBuzz(30)\n",
      "31\n",
      "32\n",
      "Fizz(33)\n",
      "34\n",
      "Buzz(35)\n",
      "Fizz(36)\n",
      "37\n",
      "38\n",
      "Fizz(39)\n",
      "Buzz(40)\n",
      "41\n",
      "Fizz(42)\n",
      "43\n",
      "44\n",
      "FizzBuzz(45)\n",
      "46\n",
      "47\n",
      "Fizz(48)\n",
      "49\n",
      "Buzz(50)\n",
      "Fizz(51)\n",
      "52\n",
      "53\n",
      "Fizz(54)\n",
      "Buzz(55)\n",
      "56\n",
      "Fizz(57)\n",
      "58\n",
      "59\n",
      "FizzBuzz(60)\n",
      "61\n",
      "62\n",
      "Fizz(63)\n",
      "64\n",
      "Buzz(65)\n",
      "Fizz(66)\n",
      "67\n",
      "68\n",
      "Fizz(69)\n",
      "Buzz(70)\n",
      "71\n",
      "Fizz(72)\n",
      "73\n",
      "74\n",
      "FizzBuzz(75)\n",
      "76\n",
      "77\n",
      "Fizz(78)\n",
      "79\n",
      "Buzz(80)\n",
      "Fizz(81)\n",
      "82\n",
      "83\n",
      "Fizz(84)\n",
      "Buzz(85)\n",
      "86\n",
      "Fizz(87)\n",
      "88\n",
      "89\n",
      "FizzBuzz(90)\n",
      "91\n",
      "92\n",
      "Fizz(93)\n",
      "94\n",
      "Buzz(95)\n",
      "Fizz(96)\n",
      "97\n",
      "98\n",
      "Fizz(99)\n",
      "Buzz(100)\n"
     ]
    }
   ],
   "source": [
    "#Code in this cell\n",
    "\n",
    "       # Method 1\n",
    "# for i in range(1,101):\n",
    "#     if i % 3 == 0:\n",
    "#         if i % 5 == 0:\n",
    "#             print('FizzBuzz')\n",
    "#         else : \n",
    "#             print('Fizz')\n",
    "#     elif i % 5 == 0:\n",
    "#         if i % 3 == 0:\n",
    "#             print('FizzBuzz')\n",
    "#         else : \n",
    "#             print('Buzz')\n",
    "#     else : \n",
    "#         print(i)\n",
    "\n",
    "      # Method 2\n",
    "for i in range(1,101):\n",
    "    if i % 15 == 0:\n",
    "        print('FizzBuzz({})'.format(i))\n",
    "    elif i % 5 == 0:\n",
    "        print('Buzz({})'.format(i))\n",
    "    elif i % 3 == 0:\n",
    "        print('Fizz({})'.format(i))\n",
    "    else :\n",
    "        print(i)"
   ]
  },
  {
   "cell_type": "markdown",
   "metadata": {},
   "source": [
    "\n",
    "**Use List Comprehension to create a list of the first letters of every word in the string below:**"
   ]
  },
  {
   "cell_type": "code",
   "execution_count": 67,
   "metadata": {},
   "outputs": [],
   "source": [
    "st = 'Create a list of the first letters of every word in this string'"
   ]
  },
  {
   "cell_type": "code",
   "execution_count": 68,
   "metadata": {},
   "outputs": [
    {
     "data": {
      "text/plain": [
       "['C', 'a', 'l', 'o', 't', 'f', 'l', 'o', 'e', 'w', 'i', 't', 's']"
      ]
     },
     "execution_count": 68,
     "metadata": {},
     "output_type": "execute_result"
    }
   ],
   "source": [
    "#Code in this cell\n",
    "   # Method 1\n",
    "# lis5 = []\n",
    "# lis3 = st.split()\n",
    "# for w in lis3 :\n",
    "#     lis4 = [ l for l in w ]\n",
    "#     lis5.append(lis4[0])\n",
    "#     #print(lis5)\n",
    "# lis5\n",
    "\n",
    "    # Method 2\n",
    "lis5 = [ word[0] for word in st.split() ]\n",
    "lis5\n",
    "# lis4 = [l[0] for w in  lis3 for l in w ]\n",
    "# lis4"
   ]
  },
  {
   "cell_type": "markdown",
   "metadata": {},
   "source": [
    "### Great Job!"
   ]
  }
 ],
 "metadata": {
  "kernelspec": {
   "display_name": "Python 3",
   "language": "python",
   "name": "python3"
  },
  "language_info": {
   "codemirror_mode": {
    "name": "ipython",
    "version": 3
   },
   "file_extension": ".py",
   "mimetype": "text/x-python",
   "name": "python",
   "nbconvert_exporter": "python",
   "pygments_lexer": "ipython3",
   "version": "3.7.1"
  }
 },
 "nbformat": 4,
 "nbformat_minor": 1
}
